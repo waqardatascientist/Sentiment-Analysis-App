{
 "cells": [
  {
   "cell_type": "code",
   "execution_count": 1,
   "id": "d3ed430c-a370-45eb-8475-a07a6094c32d",
   "metadata": {},
   "outputs": [],
   "source": [
    "import pandas as pd\n",
    "import numpy as np"
   ]
  },
  {
   "cell_type": "code",
   "execution_count": 2,
   "id": "b3b46eab-409c-4223-9a23-896acb279e91",
   "metadata": {},
   "outputs": [],
   "source": [
    "df=pd.read_csv('sentiment.csv',nrows=10000)\n",
    "\n"
   ]
  },
  {
   "cell_type": "code",
   "execution_count": 46,
   "id": "8e74af1e-6135-4e54-96dd-758cdb191958",
   "metadata": {},
   "outputs": [
    {
     "data": {
      "text/plain": [
       "status\n",
       "3    3187\n",
       "2    2589\n",
       "1    2282\n",
       "0    1830\n",
       "Name: count, dtype: int64"
      ]
     },
     "execution_count": 46,
     "metadata": {},
     "output_type": "execute_result"
    }
   ],
   "source": [
    "df['status'].value_counts()"
   ]
  },
  {
   "cell_type": "code",
   "execution_count": 4,
   "id": "3936d2ec-be11-4390-8179-d7ec893d5cb9",
   "metadata": {},
   "outputs": [
    {
     "data": {
      "text/plain": [
       "(10000, 4)"
      ]
     },
     "execution_count": 4,
     "metadata": {},
     "output_type": "execute_result"
    }
   ],
   "source": [
    "df.shape"
   ]
  },
  {
   "cell_type": "code",
   "execution_count": 5,
   "id": "5d82eb2f-1a66-46f5-905a-2101ac3414ac",
   "metadata": {},
   "outputs": [],
   "source": [
    "df.rename(columns={'2401':'code','Borderlands':'groups','Positive':'status','im getting on borderlands and i will murder you all ,':'comment'},inplace=True)"
   ]
  },
  {
   "cell_type": "code",
   "execution_count": 6,
   "id": "1383e4e3-dc7e-40dc-b5dc-a43f38434cee",
   "metadata": {},
   "outputs": [
    {
     "data": {
      "text/plain": [
       "637"
      ]
     },
     "execution_count": 6,
     "metadata": {},
     "output_type": "execute_result"
    }
   ],
   "source": [
    "df['comment'].duplicated().sum()"
   ]
  },
  {
   "cell_type": "code",
   "execution_count": 7,
   "id": "70c17a66-9015-497b-966c-8ad349f13d72",
   "metadata": {},
   "outputs": [
    {
     "data": {
      "text/plain": [
       "code         0\n",
       "groups       0\n",
       "status       0\n",
       "comment    112\n",
       "dtype: int64"
      ]
     },
     "execution_count": 7,
     "metadata": {},
     "output_type": "execute_result"
    }
   ],
   "source": [
    "df.isnull().sum()"
   ]
  },
  {
   "cell_type": "code",
   "execution_count": 8,
   "id": "855e7e44-774c-4aaa-9180-97c31c7f5f6a",
   "metadata": {},
   "outputs": [],
   "source": [
    "df.dropna(inplace=True)"
   ]
  },
  {
   "cell_type": "code",
   "execution_count": 9,
   "id": "0321917d-b411-4a7b-b5dc-78365a64f7a0",
   "metadata": {},
   "outputs": [],
   "source": [
    "from sklearn.preprocessing import LabelEncoder\n",
    "le=LabelEncoder()\n",
    "df['status']=le.fit_transform(df['status'])\n"
   ]
  },
  {
   "cell_type": "code",
   "execution_count": 10,
   "id": "3ea62771-59cf-4dc4-ae16-81c8c8cb0316",
   "metadata": {},
   "outputs": [
    {
     "data": {
      "text/plain": [
       "status\n",
       "3    3187\n",
       "2    2589\n",
       "1    2282\n",
       "0    1830\n",
       "Name: count, dtype: int64"
      ]
     },
     "execution_count": 10,
     "metadata": {},
     "output_type": "execute_result"
    }
   ],
   "source": [
    "df['status'].value_counts()"
   ]
  },
  {
   "cell_type": "code",
   "execution_count": 11,
   "id": "5518ab49-ff85-4a94-8114-c616555eb96e",
   "metadata": {},
   "outputs": [
    {
     "data": {
      "text/plain": [
       "(9888,)"
      ]
     },
     "execution_count": 11,
     "metadata": {},
     "output_type": "execute_result"
    }
   ],
   "source": [
    "df['comment'].shape"
   ]
  },
  {
   "cell_type": "code",
   "execution_count": 12,
   "id": "ceff2ffc-7f4b-44e7-b369-df6eb0b286ca",
   "metadata": {},
   "outputs": [
    {
     "name": "stdout",
     "output_type": "stream",
     "text": [
      "['hello', 'world', 'name', 'waqar', '20', 'waqar123', 'joiya']\n"
     ]
    }
   ],
   "source": [
    "#NLP preprocessing steps\n",
    "import nltk\n",
    "from nltk.corpus import stopwords\n",
    "import string\n",
    "string.punctuation\n",
    "\n",
    "def text_transform(text):\n",
    "    # Convert text to lowercase\n",
    "    text = text.lower()\n",
    "    \n",
    "    # Tokenize the text into words\n",
    "    text = nltk.word_tokenize(text)\n",
    "    \n",
    "    # Extract only alphanumeric values\n",
    "    y = [i for i in text if i.isalnum()]\n",
    "    \n",
    "    # Remove stopwords and punctuation\n",
    "    y = [i for i in y if i not in stopwords.words('english') and i not in string.punctuation]\n",
    "    \n",
    "    return y\n",
    "\n",
    "# Test the function\n",
    "result = text_transform('Hello world my name is WAQAR 20% waqar123!_ Joiya')\n",
    "print(result)"
   ]
  },
  {
   "cell_type": "code",
   "execution_count": 13,
   "id": "22fc6be6-3753-4fc4-b535-12dc09064c75",
   "metadata": {},
   "outputs": [
    {
     "name": "stdout",
     "output_type": "stream",
     "text": [
      "dancs car\n"
     ]
    }
   ],
   "source": [
    "#text_transform(df['Masseges'])\n",
    "\n",
    "# we use steming for the removing like ing es s etc\n",
    "from nltk.stem.porter import PorterStemmer\n",
    "ps=PorterStemmer() \n",
    "dd=ps.stem('dancs cars')\n",
    "print(dd)"
   ]
  },
  {
   "cell_type": "code",
   "execution_count": 16,
   "id": "ee3c4d3a-cb56-4247-bb8d-5ac37444ff55",
   "metadata": {},
   "outputs": [],
   "source": [
    "df['comment']=df['comment'].apply(text_transform)"
   ]
  },
  {
   "cell_type": "code",
   "execution_count": 22,
   "id": "5179ab59-c405-41d0-ac2f-065bf67ec37f",
   "metadata": {},
   "outputs": [
    {
     "data": {
      "text/plain": [
       "['im', 'getting', 'borderlands', 'kill']"
      ]
     },
     "execution_count": 22,
     "metadata": {},
     "output_type": "execute_result"
    }
   ],
   "source": [
    "df['comment'][1]"
   ]
  },
  {
   "cell_type": "code",
   "execution_count": 32,
   "id": "7995d42a-2d1d-4aa6-a133-821f53a0615a",
   "metadata": {},
   "outputs": [],
   "source": [
    "df['comment'] = df['comment'].astype(str)"
   ]
  },
  {
   "cell_type": "code",
   "execution_count": 36,
   "id": "ccc03c3d-d3b2-4764-b3f5-337cfe326622",
   "metadata": {},
   "outputs": [],
   "source": [
    "from sklearn.feature_extraction.text import CountVectorizer\n",
    "cv=CountVectorizer()\n",
    "new_coment=cv.fit_transform(df['comment'])"
   ]
  },
  {
   "cell_type": "code",
   "execution_count": 37,
   "id": "2786f17f-f9cd-4028-84d2-29dbe54ab811",
   "metadata": {},
   "outputs": [],
   "source": [
    "\n",
    "y=df['status']"
   ]
  },
  {
   "cell_type": "code",
   "execution_count": 39,
   "id": "bec4ebc7-9bb7-4086-be2f-cbea2be78b74",
   "metadata": {},
   "outputs": [],
   "source": [
    "from sklearn.model_selection import train_test_split\n",
    "x_train,x_test,y_train,y_test=train_test_split(new_coment,y,test_size=0.2,random_state=42)"
   ]
  },
  {
   "cell_type": "code",
   "execution_count": 40,
   "id": "82215fb3-1169-4042-8ee4-e17726fa3386",
   "metadata": {},
   "outputs": [],
   "source": [
    "from sklearn.tree import DecisionTreeClassifier\n",
    "dtc=DecisionTreeClassifier()\n",
    "dtc.fit(x_train,y_train)\n",
    "y_pred=dtc.predict(x_test)"
   ]
  },
  {
   "cell_type": "code",
   "execution_count": 43,
   "id": "f268752e-cd3d-45d6-9119-5422af9a75ff",
   "metadata": {},
   "outputs": [
    {
     "name": "stdout",
     "output_type": "stream",
     "text": [
      "0.8321536905965622\n"
     ]
    }
   ],
   "source": [
    "from sklearn.metrics import accuracy_score\n",
    "accuracy=accuracy_score(y_pred,y_test)\n",
    "print(accuracy)"
   ]
  },
  {
   "cell_type": "code",
   "execution_count": 45,
   "id": "8ddc56f7-c7c9-4318-ab0b-8cf70ae2bcae",
   "metadata": {},
   "outputs": [],
   "source": [
    "import pickle\n",
    "pickle.dump(cv,open('vector.pkl','wb'))\n",
    "pickle.dump(dtc,open('model.pkl','wb'))"
   ]
  },
  {
   "cell_type": "code",
   "execution_count": null,
   "id": "b2021719-5d88-4f67-be05-e36d75d0ea65",
   "metadata": {},
   "outputs": [],
   "source": []
  }
 ],
 "metadata": {
  "kernelspec": {
   "display_name": "Python 3 (ipykernel)",
   "language": "python",
   "name": "python3"
  },
  "language_info": {
   "codemirror_mode": {
    "name": "ipython",
    "version": 3
   },
   "file_extension": ".py",
   "mimetype": "text/x-python",
   "name": "python",
   "nbconvert_exporter": "python",
   "pygments_lexer": "ipython3",
   "version": "3.12.5"
  }
 },
 "nbformat": 4,
 "nbformat_minor": 5
}
